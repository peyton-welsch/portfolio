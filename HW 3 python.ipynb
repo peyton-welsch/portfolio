{
 "cells": [
  {
   "cell_type": "markdown",
   "id": "c5f1e0bb-b49a-4605-9d93-c4402dc3508d",
   "metadata": {},
   "source": [
    "# Homework 3"
   ]
  },
  {
   "cell_type": "markdown",
   "id": "e31ad57b-b310-43ba-9593-7026363ffd20",
   "metadata": {},
   "source": [
    "To create the following matrices, I used these combustion reactions:\n",
    "\n",
    "$$X_1NH_3 + X_2O_2 -> X_3N_2 + X_4H_2O$$\n",
    "\n",
    "$$X_1NH_3 + X_2O_2 -> X_3NO + X_4H_2O$$\n",
    "\n",
    "$$X_1NH_3 + X_2O_2 -> X_3NO_2 + X_4H_2O$$"
   ]
  },
  {
   "cell_type": "code",
   "execution_count": 11,
   "id": "0965a52c-746e-4c81-b1f2-e52b212aab79",
   "metadata": {},
   "outputs": [],
   "source": [
    "import numpy as np"
   ]
  },
  {
   "cell_type": "code",
   "execution_count": 14,
   "id": "d8e96d96-e99e-41f0-bd91-d5d484f5f809",
   "metadata": {},
   "outputs": [
    {
     "name": "stdout",
     "output_type": "stream",
     "text": [
      "[1.   0.75 0.5  1.5 ]\n",
      "[1.   1.25 1.   1.5 ]\n",
      "[1.   1.75 1.   1.5 ]\n"
     ]
    }
   ],
   "source": [
    "'''\n",
    "matrix row layout:\n",
    "[[N],\n",
    " [H],\n",
    " [O],\n",
    " [basis]]\n",
    "\n",
    " For each different equation, I put the left hand side of each atom balance and the basis (1 mol NH3) equation, \n",
    " with all coefficients moved to the left side into a matrix. Then I found the inverse of that matrix\n",
    " and multiplied it by the vector including the right hand side of each balance. The result was \n",
    " the [x_1,x_2,x_3,x_4] vector with the coefficients for the balanced equations.\n",
    "'''\n",
    "\n",
    "#Calculations for equation with N2 product:\n",
    "N2eq = np.array([[1,0,-2,0],\n",
    "                 [3,0,0,-2],\n",
    "                 [0,2,0,-1],\n",
    "                 [1,0,0,0]])\n",
    "N2inv = np.linalg.inv(N2eq)\n",
    "b = np.array([0,0,0,1])\n",
    "N2coeff = np.matmul(N2inv,b)\n",
    "print(N2coeff)\n",
    "\n",
    "#Calculations for equation with NO product:\n",
    "NOeq = np.array([[1,0,-1,0],\n",
    "                 [3,0,0,-2],\n",
    "                 [0,2,-1,-1],\n",
    "                 [1,0,0,0]])\n",
    "NOinv = np.linalg.inv(NOeq)\n",
    "b = np.array([0,0,0,1])\n",
    "NOcoeff = np.matmul(NOinv,b)\n",
    "print(NOcoeff)\n",
    "\n",
    "#Calculations for equation with NO2 product:\n",
    "NO2eq = np.array([[1,0,-1,0],\n",
    "                 [3,0,0,-2],\n",
    "                 [0,2,-2,-1],\n",
    "                 [1,0,0,0]])\n",
    "NO2inv = np.linalg.inv(NO2eq)\n",
    "b = np.array([0,0,0,1])\n",
    "NO2coeff = np.matmul(NO2inv,b)\n",
    "print(NO2coeff)\n",
    "\n",
    "#Resulting vectors have coefficient order: [NH3,O2,N2/NO/NO2,H2O]."
   ]
  },
  {
   "cell_type": "markdown",
   "id": "7a7b16f9-b3ed-43c6-b851-41c745cf56e5",
   "metadata": {},
   "source": [
    "Here, I manually redefined each vector with zeros as placeholders for the products that were not present in each calculation step, then added them together to get the final overall coefficients for the balanced combined combustion reaction equation.\n",
    "\n",
    "$$X_1NH_3 + X_2O_2 -> X_3N_2 + X_4NO + X_5NO_2 + X_6H_2O$$"
   ]
  },
  {
   "cell_type": "code",
   "execution_count": 13,
   "id": "fb343ecc-f16c-432c-94a7-4bd84476859c",
   "metadata": {},
   "outputs": [
    {
     "name": "stdout",
     "output_type": "stream",
     "text": [
      "[3.   3.75 0.5  1.   1.   4.5 ]\n"
     ]
    }
   ],
   "source": [
    "#coefficient layout in vectors: [NH3,O2,N2,NO,NO2,H2O]\n",
    "newN2co = np.array([1,0.75,0.5,0,0,1.5])\n",
    "newNOco = np.array([1,1.25,0,1,0,1.5])\n",
    "newNO2co = np.array([1,1.75,0,0,1,1.5])\n",
    "overall = newN2co + newNOco + newNO2co\n",
    "print(overall)"
   ]
  }
 ],
 "metadata": {
  "kernelspec": {
   "display_name": "Python 3 (ipykernel)",
   "language": "python",
   "name": "python3"
  },
  "language_info": {
   "codemirror_mode": {
    "name": "ipython",
    "version": 3
   },
   "file_extension": ".py",
   "mimetype": "text/x-python",
   "name": "python",
   "nbconvert_exporter": "python",
   "pygments_lexer": "ipython3",
   "version": "3.11.9"
  }
 },
 "nbformat": 4,
 "nbformat_minor": 5
}
