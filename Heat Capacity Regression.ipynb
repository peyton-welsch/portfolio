{
 "cells": [
  {
   "cell_type": "markdown",
   "id": "b686fcf0-acd9-4e9b-ab01-458d06372dd8",
   "metadata": {},
   "source": [
    "# Heat Capacity Regression"
   ]
  },
  {
   "cell_type": "markdown",
   "id": "cd651446-75e0-41bc-bc16-702baf3bff02",
   "metadata": {},
   "source": [
    "The goal of this project is to take given data for $C_2F_4$ heat capacity (notated as Cp) as a function of temperature and perform linear regression to find a model to fit the data, then to create a plot to represent both the data and the model together."
   ]
  },
  {
   "cell_type": "code",
   "execution_count": 41,
   "id": "59ddcad3-3495-4587-b0ff-86cdf6a26f0f",
   "metadata": {},
   "outputs": [],
   "source": [
    "import numpy as np\n",
    "import matplotlib.pyplot as plt\n",
    "from scipy.optimize import minimize\n",
    "from scipy.optimize import curve_fit"
   ]
  },
  {
   "cell_type": "markdown",
   "id": "4bed729c-7405-4fce-bfb7-a3662fe9a567",
   "metadata": {},
   "source": [
    "First, I imported data from the given txt file and separated them into numpy arrays for temperature, given in $K$ (temp), and the collected heat capacity values, given in $J/mol-K$ (CpC2F4_data).\n"
   ]
  },
  {
   "cell_type": "code",
   "execution_count": 42,
   "id": "0f7171a1-3074-4796-866c-c61b62358ba7",
   "metadata": {},
   "outputs": [
    {
     "name": "stdout",
     "output_type": "stream",
     "text": [
      "[[    nan     nan]\n",
      " [   0.     78.48]\n",
      " [  50.     86.95]\n",
      " [ 100.     84.76]\n",
      " [ 150.     95.94]\n",
      " [ 200.    100.25]\n",
      " [ 250.    100.96]\n",
      " [ 300.    102.07]\n",
      " [ 350.    104.83]\n",
      " [ 400.    107.24]\n",
      " [ 450.    111.61]\n",
      " [ 500.    112.34]\n",
      " [ 550.    116.29]\n",
      " [ 600.    111.85]\n",
      " [ 650.    115.44]\n",
      " [ 700.    121.34]\n",
      " [ 750.    127.22]\n",
      " [ 800.    128.2 ]\n",
      " [ 850.    127.91]\n",
      " [ 900.    117.67]\n",
      " [ 950.    121.  ]\n",
      " [1000.    120.65]\n",
      " [1050.    130.48]\n",
      " [1100.    126.52]]\n"
     ]
    }
   ],
   "source": [
    "data = np.genfromtxt('HW2_calorimetry_data.txt', delimiter = '\\t')\n",
    "print(data)"
   ]
  },
  {
   "cell_type": "code",
   "execution_count": 44,
   "id": "0106aa2f-9f89-4dc8-8edf-092211ee658d",
   "metadata": {},
   "outputs": [],
   "source": [
    "temp = np.array(data[1:,0]) #Units: K\n",
    "CpC2F4_data = np.array(data[1:,1]) #Units: J/mol-K"
   ]
  },
  {
   "cell_type": "markdown",
   "id": "ca1179e9-c299-405c-b53a-483a2c8e1d13",
   "metadata": {},
   "source": [
    "Next, I created an array of my initial guesses and defined a function to calculate my SSE (sum of squared error)."
   ]
  },
  {
   "cell_type": "code",
   "execution_count": 30,
   "id": "80de69a3-9c2e-49f2-8396-101b742dde21",
   "metadata": {},
   "outputs": [],
   "source": [
    "# cong (constants guesses) is arranged [Aguess,Bguess,Cguess,Dguess]\n",
    "cong = np.array([80,.012,-7e-5,14e-9])"
   ]
  },
  {
   "cell_type": "code",
   "execution_count": 40,
   "id": "389db157-d3f3-484e-aabe-e87f52088c0b",
   "metadata": {},
   "outputs": [],
   "source": [
    "def SSE(con):\n",
    "    \n",
    "    '''\n",
    "    This function calculates the Sum of Squares Error.\n",
    "    \n",
    "    Input:\n",
    "    con (array) - these are my initial guesses for constants.\n",
    "    \n",
    "    Output:\n",
    "    SSEcalc (float) - this is the calculated SSE value using the initial constant guesses.\n",
    "    '''\n",
    "    \n",
    "    guess = con[0] + con[1]*temp + con[2]*np.power(temp,2) + con[3]*np.power(temp,3)\n",
    "    actual = CpC2F4_data\n",
    "    # Guess and actual use the equation given, 𝐶𝑝 = A + BT + CT^2 + DT^3.\n",
    "    \n",
    "    Error = guess-actual\n",
    "    Error_sq = np.power(Error,2)\n",
    "    SSEcalc = np.sum(Error_sq)\n",
    "\n",
    "    return SSEcalc"
   ]
  },
  {
   "cell_type": "code",
   "execution_count": 32,
   "id": "e6cbf033-8cf2-4488-8704-8943a7687438",
   "metadata": {},
   "outputs": [
    {
     "name": "stdout",
     "output_type": "stream",
     "text": [
      "74322.24187718748\n"
     ]
    }
   ],
   "source": [
    "C2F4_SSE = SSE(cong)\n",
    "print(C2F4_SSE)"
   ]
  },
  {
   "cell_type": "markdown",
   "id": "bad2dae4-7d4b-4cbf-a208-cfa11f1e7206",
   "metadata": {},
   "source": [
    "Here, the minimize function from scipy.optimize is used to minimize the SSE function and return the desired constant values."
   ]
  },
  {
   "cell_type": "code",
   "execution_count": 33,
   "id": "5bbd1d5e-dffe-4d01-b8f7-e58bd4c50e8b",
   "metadata": {},
   "outputs": [
    {
     "name": "stdout",
     "output_type": "stream",
     "text": [
      "[ 8.00000000e+01  1.20003449e-02  1.10399329e-04 -8.21693933e-08]\n"
     ]
    }
   ],
   "source": [
    "miniSSE = minimize(SSE,cong)\n",
    "[Afinal,Bfinal,Cfinal,Dfinal] = miniSSE.x\n",
    "print(miniSSE.x)"
   ]
  },
  {
   "cell_type": "markdown",
   "id": "12b646be-433c-475b-9900-9d0a84608fc6",
   "metadata": {},
   "source": [
    "Next, I created a function to calculate the heat capacity model using the optimized values above. The function uses this given equation, where A, B, C, and D are coefficients specific to the compound, and T is temperature:\n",
    "\n",
    "$$ Cp = A + BT + CT^2 + DT^3 $$"
   ]
  },
  {
   "cell_type": "code",
   "execution_count": 34,
   "id": "6c3748fe-c9f5-4cdd-8f03-9362d4a4e134",
   "metadata": {},
   "outputs": [],
   "source": [
    "def heat_cap(A,B,C,D,T):\n",
    "\n",
    "    '''\n",
    "    This function uses the equation above to calculate the heat capacities of certain molecules with given temperatures \n",
    "    using coefficients unique to each molecule.\n",
    "\n",
    "    Inputs:\n",
    "    A, B, C, D - coefficents defined above in constants array\n",
    "    T - temperature array defined above\n",
    "\n",
    "    Return\n",
    "    Cp - this is the heat capacity for a specific molecule at a given temperature, T.\n",
    "    \n",
    "    '''\n",
    "    Cp = A + B*T + C*np.power(T,2) + D*np.power(T,3)\n",
    "    return Cp"
   ]
  },
  {
   "cell_type": "code",
   "execution_count": 37,
   "id": "ef82f220-777f-45b5-b876-296980e78b30",
   "metadata": {},
   "outputs": [],
   "source": [
    "Cp_model = heat_cap(Afinal,Bfinal,Cfinal,Dfinal,temp)"
   ]
  },
  {
   "cell_type": "markdown",
   "id": "e359dda9-c73d-4b76-b69d-cef59d7d55de",
   "metadata": {},
   "source": [
    "Finally, I graphed my heat capacity model with the minimized SSE as a line, and the given heat capacity data as discrete points on the same graph. The x-axis is temperature (K)."
   ]
  },
  {
   "cell_type": "code",
   "execution_count": 39,
   "id": "588748b6-6070-4272-a37a-4d8d06c1e1cd",
   "metadata": {},
   "outputs": [
    {
     "data": {
      "text/plain": [
       "(0.0, 140.0)"
      ]
     },
     "execution_count": 39,
     "metadata": {},
     "output_type": "execute_result"
    },
    {
     "data": {
      "image/png": "[encoded data removed]",
      "text/plain": [
       "<Figure size 640x480 with 1 Axes>"
      ]
     },
     "metadata": {},
     "output_type": "display_data"
    }
   ],
   "source": [
    "plt.plot(temp,Cp_model,label='model',color='darkorchid')\n",
    "plt.scatter(temp,CpC2F4_data,label='observed',color='royalblue')\n",
    "\n",
    "plt.title('Heat Capacity vs Temperature for $C_2F_4$',fontsize=16)\n",
    "plt.legend(loc='center right')\n",
    "plt.xlabel('Temperature (K)',fontsize=10)\n",
    "plt.ylabel('Heat Capacity (J/mol-K)',fontsize=10)\n",
    "\n",
    "plt.xlim([0,1200])\n",
    "plt.ylim([0,140])"
   ]
  },
  {
   "cell_type": "code",
   "execution_count": null,
   "id": "5c5d8331-d5ba-403f-9c00-1ea38bc79f67",
   "metadata": {},
   "outputs": [],
   "source": []
  },
  {
   "cell_type": "code",
   "execution_count": null,
   "id": "e684f6f3-bad7-4f53-9de5-b30b2a1e6513",
   "metadata": {},
   "outputs": [],
   "source": []
  }
 ],
 "metadata": {
  "kernelspec": {
   "display_name": "Python 3 (ipykernel)",
   "language": "python",
   "name": "python3"
  },
  "language_info": {
   "codemirror_mode": {
    "name": "ipython",
    "version": 3
   },
   "file_extension": ".py",
   "mimetype": "text/x-python",
   "name": "python",
   "nbconvert_exporter": "python",
   "pygments_lexer": "ipython3",
   "version": "3.11.9"
  }
 },
 "nbformat": 4,
 "nbformat_minor": 5
}
