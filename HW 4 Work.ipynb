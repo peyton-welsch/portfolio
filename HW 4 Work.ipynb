{
 "cells": [
  {
   "cell_type": "markdown",
   "id": "2f857b31-9751-48ce-9e5e-772ac903a2ed",
   "metadata": {},
   "source": [
    "# Homework 4"
   ]
  },
  {
   "cell_type": "markdown",
   "id": "d4f089ca-11fd-4aee-a3db-7e56eb6b4f4f",
   "metadata": {},
   "source": [
    "## Question 1"
   ]
  },
  {
   "cell_type": "code",
   "execution_count": 3,
   "id": "a2e99bd0-db95-44e2-8646-9d8c90543be6",
   "metadata": {},
   "outputs": [],
   "source": [
    "import numpy as np\n",
    "import scipy.optimize as opt\n",
    "import matplotlib.pyplot as plt"
   ]
  },
  {
   "cell_type": "markdown",
   "id": "d8de3bfd-c0bd-475f-8b67-f87f9a3b98d7",
   "metadata": {},
   "source": [
    "Relevant form of Antoine Equation:\n",
    "\n",
    "$$ ln(P^{sat})= A - \\frac{B}{T+C} $$\n",
    "\n",
    "Pressure [=] kPa, Temp [=] degrees Celsius.\n",
    "\n",
    "Raoult's Law combined with Antoine Equation for 1-propanol (P), 1-butanol (B):\n",
    "\n",
    "$$ y_P * P = x_P * e^{ [A_P - \\frac{B_P}{T+C_P}]} $$\n",
    "$$ y_B * P = x_B * e^{ [A_B - \\frac{B_B}{T+C_B}]} $$\n",
    "\n",
    "Additional useful equations:\n",
    "\n",
    "$$ x_P + x_B = 1 $$\n",
    "\n",
    "Solved for zero:\n",
    "\n",
    "$$ x_P * e^{ [A_P - \\frac{B_P}{T+C_P}]} - y_P * P = 0 $$\n",
    "$$ x_B * e^{ [A_B - \\frac{B_B}{T+C_B}]} - y_B * P = 0 $$\n",
    "$$ 1 - x_P - x_B = 0 $$"
   ]
  },
  {
   "cell_type": "code",
   "execution_count": 85,
   "id": "140c3a2a-74b7-4bc6-a088-4d72c08b699c",
   "metadata": {},
   "outputs": [],
   "source": [
    "def antrat1(x,args):\n",
    "    '''\n",
    "    This function uses the left-hand side of the equations listed above and \n",
    "    given x and args values (defined below) to calculate the right-hand side \n",
    "    of the equation, which should be zero given the correct values. \n",
    "\n",
    "    Inputs:\n",
    "    x - unknowns, will initially be given initial guesses, will be optimized later.\n",
    "    args - parameters\n",
    "\n",
    "    Output:\n",
    "    f - calculated values of above equations\n",
    "    '''\n",
    "    \n",
    "    #Unknowns:\n",
    "    xp = x[0]\n",
    "    xb = x[1]\n",
    "    P = x[2]\n",
    "    \n",
    "    #Parameters:\n",
    "    yp = args[0]\n",
    "    yb = args[1]\n",
    "    ap = args[2]\n",
    "    bp = args[3]\n",
    "    cp = args[4]\n",
    "    ab = args[5]\n",
    "    bb = args[6]\n",
    "    cb = args[7]\n",
    "    T = args[8]\n",
    "    \n",
    "    f = np.zeros([3])\n",
    "    f[0] = xp*np.exp(ap-(bp/(T+cp))) - yp*P\n",
    "    f[1] = xb*np.exp(ab-(bb/(T+cb))) - yb*P\n",
    "    f[2] = 1 - xp - xb\n",
    "    \n",
    "    return f"
   ]
  },
  {
   "cell_type": "code",
   "execution_count": 5,
   "id": "a4cb1476-6d50-4c1d-b6bb-cbe97990f7e6",
   "metadata": {},
   "outputs": [],
   "source": [
    "#Here, I define initial guess values for x [xp,xb,P], and define the args [yp,yb,ap,bp,cp,ab,bb,cb,T] array.\n",
    "xinit = np.array([0.5,0.5,100])\n",
    "args = np.array([0.9,0.1,16.1154,3483.67,205.807,15.3144,3212.43,182.739,45])"
   ]
  },
  {
   "cell_type": "code",
   "execution_count": 6,
   "id": "989c2b84-f831-42c4-a13b-1f9bfe805487",
   "metadata": {},
   "outputs": [
    {
     "name": "stdout",
     "output_type": "stream",
     "text": [
      "[-85.37068349  -8.32552417   0.        ]\n"
     ]
    }
   ],
   "source": [
    "#Function test using xinit, args\n",
    "print(antrat1(xinit,args))"
   ]
  },
  {
   "cell_type": "markdown",
   "id": "d72777b8-e3ba-40ef-9ec4-55e672c9fc22",
   "metadata": {},
   "source": [
    "Since the values in f when using xinit are so high, we have to use fsolve to find more accurate values. Shown below."
   ]
  },
  {
   "cell_type": "code",
   "execution_count": 7,
   "id": "0df094a1-f618-4aa5-a565-8c0032f82824",
   "metadata": {},
   "outputs": [
    {
     "name": "stdout",
     "output_type": "stream",
     "text": [
      "[0.765 0.235 7.87 ]\n"
     ]
    }
   ],
   "source": [
    "solvedx = opt.fsolve(antrat1,xinit,args)\n",
    "print(np.round(solvedx,3))"
   ]
  },
  {
   "cell_type": "code",
   "execution_count": 8,
   "id": "001014f8-8b92-47ea-a4b2-02aa541de669",
   "metadata": {},
   "outputs": [
    {
     "name": "stdout",
     "output_type": "stream",
     "text": [
      "[ 8.88178420e-16  1.11022302e-16 -2.77555756e-17]\n"
     ]
    }
   ],
   "source": [
    "#Checking work, if correct, should return zeros.\n",
    "check = antrat1(solvedx,args)\n",
    "print(check)"
   ]
  },
  {
   "cell_type": "markdown",
   "id": "0cdb8678-7b2d-402f-8342-370ceffe4f3a",
   "metadata": {},
   "source": [
    "Although these numbers are not precisely zero, they are very close to zero. The level of precision we would need to have for these values to matter is much greater than 3 sig figs. Therefore, under the given conditions,\n",
    "\n",
    "$$ x_P = 0.765 $$\n",
    "$$ x_B = 0.235 $$\n",
    "$$ P = 7.87 \\space kPa $$"
   ]
  },
  {
   "cell_type": "markdown",
   "id": "ecacb855-390d-4131-a43d-946f3ba05161",
   "metadata": {},
   "source": [
    "## Question 2"
   ]
  },
  {
   "cell_type": "markdown",
   "id": "03a1f6ff-2e35-475c-8a84-59fb35398042",
   "metadata": {},
   "source": [
    "Additional equation solved for zero:\n",
    "\n",
    "$$ 1 - y_1 - y_2 = 0 $$\n",
    "\n",
    "Since there are only 2 unknowns in this problem, we can use this equation and the first Antoine-Raoult combined equation from problem 1. This will still give us 0 degrees of freedom.\n",
    "\n",
    "Although the problem statement does not state it explicitly, I will choose the temperature to be 45 degrees Celsius. In the table of Parameters for Antoine Equation, this temperature is within the range for both 1-butanol and 2-butanol."
   ]
  },
  {
   "cell_type": "code",
   "execution_count": 9,
   "id": "fe51e44e-006c-4207-a9a4-a8520ca77798",
   "metadata": {},
   "outputs": [],
   "source": [
    "def antrat2(x,args):\n",
    "    '''\n",
    "    This function is very similar to antrat1, but has different unknowns and deals\n",
    "    with 1-butanol (1), and 2-butanol (2).\n",
    "    Pressure = 1atm = 101.325 kPa\n",
    "    Temperature = 45 degrees Celsius\n",
    "    '''\n",
    "    \n",
    "    #Unknowns:\n",
    "    y1 = x[0]\n",
    "    y2 = x[1]\n",
    "    \n",
    "    #Parameters:\n",
    "    x1 = args[0]\n",
    "    x2 = args[1]\n",
    "    a1 = args[2]\n",
    "    b1 = args[3]\n",
    "    c1 = args[4]\n",
    "    a2 = args[5]\n",
    "    b2 = args[6]\n",
    "    c2 = args[7]\n",
    "    T = args[8]\n",
    "    P = args[9]\n",
    "    \n",
    "    f = np.zeros([2])\n",
    "    f[0] = x1*np.exp(a1-(b1/(T+c1))) - y1*P\n",
    "    f[1] = 1 - y1 - y2\n",
    "    \n",
    "    return f"
   ]
  },
  {
   "cell_type": "code",
   "execution_count": 10,
   "id": "7b67413f-bd8f-448d-90c2-9acaf99a1bb6",
   "metadata": {},
   "outputs": [],
   "source": [
    "xinit2 = np.array([0.5,0.5])\n",
    "args2 = np.array([0.5,0.5,15.3144,3212.43,182.739,15.1989,3026.03,186.5,45,101.325])"
   ]
  },
  {
   "cell_type": "code",
   "execution_count": 11,
   "id": "ea0c0df2-f5ef-472c-9821-c0c7e2c80ff3",
   "metadata": {},
   "outputs": [
    {
     "name": "stdout",
     "output_type": "stream",
     "text": [
      "[-48.98802417   0.        ]\n"
     ]
    }
   ],
   "source": [
    "#Function test\n",
    "print(antrat2(xinit2,args2))"
   ]
  },
  {
   "cell_type": "code",
   "execution_count": 12,
   "id": "44528421-e41c-4407-ae1b-1873d13dab1c",
   "metadata": {},
   "outputs": [
    {
     "name": "stdout",
     "output_type": "stream",
     "text": [
      "[0.017 0.983]\n"
     ]
    }
   ],
   "source": [
    "solvedx2 = opt.fsolve(antrat2,xinit2,args2)\n",
    "print(np.round(solvedx2,3))"
   ]
  },
  {
   "cell_type": "code",
   "execution_count": 13,
   "id": "313d4b57-cef0-483d-bd62-80c49c8086a7",
   "metadata": {},
   "outputs": [
    {
     "name": "stdout",
     "output_type": "stream",
     "text": [
      "[2.22044605e-16 0.00000000e+00]\n"
     ]
    }
   ],
   "source": [
    "check2 = antrat2(solvedx2,args2)\n",
    "print(check2)"
   ]
  },
  {
   "cell_type": "markdown",
   "id": "0cb1752d-0ff0-45a5-815e-2aa8f0f77f27",
   "metadata": {},
   "source": [
    "Again, these f values are very close to zero and are beyond our level of precision. \n",
    "\n",
    "$$ y_1 = 0.017 $$\n",
    "$$ y_2 = 0.983 $$\n",
    "\n",
    "Part B: The structure of 1- and 2-butanol are different. Since the alcohol functional group is on the end for 1-butanol, it is more likely to have strong hydrogen-bonding in the liquid phase and does not evaporate as easily as 2-butanol. Therefore, it makes sense that in this mixture there is a higher percentage of 2-butanol gas than 1-butanol gas."
   ]
  },
  {
   "cell_type": "markdown",
   "id": "86f91545-df80-41a7-a5f7-eebf6131a866",
   "metadata": {},
   "source": [
    "## Question 3"
   ]
  },
  {
   "cell_type": "markdown",
   "id": "5b44e923-a21f-4bf6-be7a-5c10f3267d3a",
   "metadata": {},
   "source": [
    "Equations to use:\n",
    "\n",
    "$$ x_o * e^{ [A_o - \\frac{B_o}{T+C_o}]} - y_o * P = 0 $$\n",
    "$$ x_m * e^{ [A_m - \\frac{B_m}{T+C_m}]} - y_m * P = 0 $$\n",
    "$$ x_p * e^{ [A_p - \\frac{B_p}{T+C_p}]} - y_p * P = 0 $$\n",
    "$$ 1 - y_o - y_m - y_p = 0 $$"
   ]
  },
  {
   "cell_type": "code",
   "execution_count": 14,
   "id": "7132db68-34d2-4b48-a531-dba783282701",
   "metadata": {},
   "outputs": [],
   "source": [
    "def antrat3(x,args):\n",
    "    '''\n",
    "    This function again is similar to the previous two. This time,\n",
    "    the unknowns are the molar composition of the gas phase, and we are \n",
    "    dealing with 3 substances: ortho (o), meta (m), and para (p) isomers of \n",
    "    xylene.\n",
    "\n",
    "    Pressure [=] kPa in this function, but will be converted to atm later.\n",
    "    Temp [=] degrees Celsius\n",
    "    '''\n",
    "    \n",
    "    #Unknowns:\n",
    "    yo = x[0]\n",
    "    ym = x[1]\n",
    "    yp = x[2]\n",
    "    P = x[3]\n",
    "    \n",
    "    #Parameters:\n",
    "    xo = args[0]\n",
    "    xm = args[1]\n",
    "    xp = args[2]\n",
    "    ao = args[3]\n",
    "    bo = args[4]\n",
    "    co = args[5]\n",
    "    am = args[6]\n",
    "    bm = args[7]\n",
    "    cm = args[8]\n",
    "    ap = args[9]\n",
    "    bp = args[10]\n",
    "    cp = args[11]\n",
    "    T = args[12]\n",
    "    \n",
    "    f = np.zeros([4])\n",
    "    f[0] = xo*np.exp(ao-(bo/(T+co))) - yo*P\n",
    "    f[1] = xm*np.exp(am-(bm/(T+cm))) - ym*P\n",
    "    f[2] = xp*np.exp(ap-(bp/(T+cp))) - yp*P\n",
    "    f[3] = 1 - yo - ym - yp\n",
    "    \n",
    "    return f"
   ]
  },
  {
   "cell_type": "code",
   "execution_count": 15,
   "id": "a85d7798-70c2-4086-b016-a90e8841e357",
   "metadata": {},
   "outputs": [],
   "source": [
    "xinit3 = np.array([0.33,0.33,0.33,100])\n",
    "args3 = np.array([0.33,0.33,0.33,14.0415,3358.79,212.041,14.1387,3381.81,216.120,14.0579,3331.45,214.627,135])"
   ]
  },
  {
   "cell_type": "code",
   "execution_count": 16,
   "id": "d1232a6d-3c0f-4984-918f-5415576acc84",
   "metadata": {},
   "outputs": [
    {
     "name": "stdout",
     "output_type": "stream",
     "text": [
      "[-7.0940974  -3.07949986 -2.41058431  0.01      ]\n"
     ]
    }
   ],
   "source": [
    "#Function test\n",
    "print(antrat3(xinit3,args3))"
   ]
  },
  {
   "cell_type": "code",
   "execution_count": 17,
   "id": "0cf5049f-31d8-48e7-b459-bb0ab35bdf43",
   "metadata": {},
   "outputs": [
    {
     "name": "stdout",
     "output_type": "stream",
     "text": [
      "[ 0.3    0.346  0.354 86.416]\n"
     ]
    }
   ],
   "source": [
    "solvedx3 = opt.fsolve(antrat3,xinit3,args3)\n",
    "print(np.round(solvedx3,3))"
   ]
  },
  {
   "cell_type": "code",
   "execution_count": 18,
   "id": "0e469e61-25a1-47e6-a820-647855acc68d",
   "metadata": {},
   "outputs": [
    {
     "name": "stdout",
     "output_type": "stream",
     "text": [
      "[ 3.55271368e-15 -7.10542736e-15 -3.55271368e-15 -5.55111512e-17]\n"
     ]
    }
   ],
   "source": [
    "check = antrat3(solvedx3,args3)\n",
    "print(check)"
   ]
  },
  {
   "cell_type": "code",
   "execution_count": 19,
   "id": "ffb50602-4b42-414c-9b95-3431b4ed27c8",
   "metadata": {},
   "outputs": [
    {
     "name": "stdout",
     "output_type": "stream",
     "text": [
      "0.853\n"
     ]
    }
   ],
   "source": [
    "#Converting pressure to atm\n",
    "P_atm = solvedx3[3]*0.00986923\n",
    "print(np.round(P_atm,3))"
   ]
  },
  {
   "cell_type": "markdown",
   "id": "2452bc2f-68bc-4e79-bc59-b2c66576ef3a",
   "metadata": {},
   "source": [
    "Again, the f values are very small, so this optimization was successful. Here are the found values for the gas phase composition and the pressure:\n",
    "\n",
    "$$ y_o = 0.300 $$\n",
    "$$ y_m = 0.346 $$\n",
    "$$ y_p = 0.354 $$\n",
    "$$ P = 0.853 \\space atm $$"
   ]
  },
  {
   "cell_type": "markdown",
   "id": "d6bd1866-faf1-4996-b24c-ad97745b8ff7",
   "metadata": {},
   "source": [
    "## Question 4"
   ]
  },
  {
   "cell_type": "markdown",
   "id": "cc12ca4b-a245-4863-88be-2896f8475b5a",
   "metadata": {},
   "source": [
    "Necessary Equations:\n",
    "\n",
    "$$ x_A * e^{(A_A-\\frac{B_A}{T+C_A})}-y_A*P=0 $$ \n",
    "$$ x_B * e^{(A_B-\\frac{B_B}{T+C_B})}-y_B*P=0 $$\n",
    "$$ 1-y_A-y_B=0 $$\n",
    "$$ 1-x_A-x_B=0 $$\n",
    "\n",
    "For Acetone (A) and Acetonitrile (B)"
   ]
  },
  {
   "cell_type": "markdown",
   "id": "1b79f53d-9b86-48c3-923b-f1e29a6cdfdf",
   "metadata": {},
   "source": [
    "Antoine Equation parameters:\n",
    "\n",
    "$$ ln(P_{sat,\\space A}) = 14.3145 - \\frac{2756.22}{T+288.060} $$\n",
    "$$ ln(P_{sat,\\space \n",
    "B}) = 14.8950 - \\frac{3413.10}{T+250.523} $$\n",
    "\n",
    "Pressure [=] kPa"
   ]
  },
  {
   "cell_type": "code",
   "execution_count": 86,
   "id": "0dc5d8a6-7efe-4020-88cd-c0ea064ec8c4",
   "metadata": {},
   "outputs": [],
   "source": [
    "def antrat4(x,args):\n",
    "    '''\n",
    "    This function is again very similar to the others. The difference here is that the xa variable will later be defined as \n",
    "    a list of values at regular intervals from 0 to 1. The function will then take a value in that list as an xa value, and \n",
    "    the the other values in the x array, and calculate the values of the equations defined above.\n",
    "\n",
    "    Input:\n",
    "    x - unknown values, will optimize function to find actual values later.\n",
    "    args - parameters and list of possible xa values\n",
    "\n",
    "    Output:\n",
    "    f - array of values of equations above.\n",
    "    '''\n",
    "    \n",
    "    #Unknowns:\n",
    "    xb = x[0]\n",
    "    ya = x[1]\n",
    "    yb = x[2]\n",
    "    T = x[3]\n",
    "    \n",
    "    #Parameters:\n",
    "    xa = args[0]\n",
    "    aa = args[1]\n",
    "    ba = args[2]\n",
    "    ca = args[3]\n",
    "    ab = args[4]\n",
    "    bb = args[5]\n",
    "    cb = args[6]\n",
    "    P = args[7]\n",
    "    \n",
    "    f = np.zeros([4])\n",
    "    f[0] = xa*np.exp(aa-(ba/(T+ca))) - ya*P\n",
    "    f[1] = xb*np.exp(ab-(bb/(T+cb))) - yb*P\n",
    "    f[2] = 1-ya-yb\n",
    "    f[3] = 1-xa-xb\n",
    "    \n",
    "    return f"
   ]
  },
  {
   "cell_type": "code",
   "execution_count": 87,
   "id": "3519fdf3-3af6-4760-9bc2-72592ca6af25",
   "metadata": {},
   "outputs": [
    {
     "name": "stdout",
     "output_type": "stream",
     "text": [
      "[0.   0.01 0.02 0.03 0.04 0.05 0.06 0.07 0.08 0.09 0.1  0.11 0.12 0.13\n",
      " 0.14 0.15 0.16 0.17 0.18 0.19 0.2  0.21 0.22 0.23 0.24 0.25 0.26 0.27\n",
      " 0.28 0.29 0.3  0.31 0.32 0.33 0.34 0.35 0.36 0.37 0.38 0.39 0.4  0.41\n",
      " 0.42 0.43 0.44 0.45 0.46 0.47 0.48 0.49 0.5  0.51 0.52 0.53 0.54 0.55\n",
      " 0.56 0.57 0.58 0.59 0.6  0.61 0.62 0.63 0.64 0.65 0.66 0.67 0.68 0.69\n",
      " 0.7  0.71 0.72 0.73 0.74 0.75 0.76 0.77 0.78 0.79 0.8  0.81 0.82 0.83\n",
      " 0.84 0.85 0.86 0.87 0.88 0.89 0.9  0.91 0.92 0.93 0.94 0.95 0.96 0.97\n",
      " 0.98 0.99 1.  ]\n"
     ]
    }
   ],
   "source": [
    "#Here, I define a list of xa values from 0 to 1 at intervals of 0.01.\n",
    "xlist = np.arange(0.0,1.01,0.01)\n",
    "print(xlist)"
   ]
  },
  {
   "cell_type": "code",
   "execution_count": 88,
   "id": "ba04c732-d35f-4814-a931-ca195d24182f",
   "metadata": {},
   "outputs": [
    {
     "name": "stdout",
     "output_type": "stream",
     "text": [
      "101\n"
     ]
    }
   ],
   "source": [
    "#This will determine how long the placeholder arrays should be.\n",
    "length = np.shape(xlist)\n",
    "print(length[0])"
   ]
  },
  {
   "cell_type": "code",
   "execution_count": 89,
   "id": "46f3f067-b86f-4375-acca-feb0bd369747",
   "metadata": {},
   "outputs": [
    {
     "name": "stdout",
     "output_type": "stream",
     "text": [
      "[0. 0. 0. 0. 0. 0. 0. 0. 0. 0. 0. 0. 0. 0. 0. 0. 0. 0. 0. 0. 0. 0. 0. 0.\n",
      " 0. 0. 0. 0. 0. 0. 0. 0. 0. 0. 0. 0. 0. 0. 0. 0. 0. 0. 0. 0. 0. 0. 0. 0.\n",
      " 0. 0. 0. 0. 0. 0. 0. 0. 0. 0. 0. 0. 0. 0. 0. 0. 0. 0. 0. 0. 0. 0. 0. 0.\n",
      " 0. 0. 0. 0. 0. 0. 0. 0. 0. 0. 0. 0. 0. 0. 0. 0. 0. 0. 0. 0. 0. 0. 0. 0.\n",
      " 0. 0. 0. 0. 0.]\n"
     ]
    }
   ],
   "source": [
    "#Creating placeholder arrays\n",
    "xb = np.zeros(length[0])\n",
    "ya = np.zeros(length[0])\n",
    "yb = np.zeros(length[0])\n",
    "T = np.zeros(length[0])\n",
    "print(xb)"
   ]
  },
  {
   "cell_type": "code",
   "execution_count": 90,
   "id": "8a93f932-bf41-44a2-9726-bc745a3f4fed",
   "metadata": {},
   "outputs": [],
   "source": [
    "#Defining initial guesses, to be optimized.\n",
    "xinit4 = [0.5,0.5,0.5,300]\n",
    "\n",
    "#Looping over each value in xlist, and optimizing the initial guess values at that xa concentration.\n",
    "for i in range(0,length[0]):\n",
    "    args4 = [xlist[i],14.3145,2756.22,228.060,14.8950,3413.10,250.523,75.99375]\n",
    "    [xb[i],ya[i],yb[i],T[i]] = opt.fsolve(antrat4,xinit4,args4)\n"
   ]
  },
  {
   "cell_type": "code",
   "execution_count": 93,
   "id": "0c4c033b-090d-4096-bf01-b3e8837d9759",
   "metadata": {},
   "outputs": [
    {
     "data": {
      "image/png": "[encoded data removed]",
      "text/plain": [
       "<Figure size 500x500 with 1 Axes>"
      ]
     },
     "metadata": {},
     "output_type": "display_data"
    }
   ],
   "source": [
    "#x-y diagram overlayed w/y=x line. Acetone is more volatile, so I will graph in terms of xa and ya.\n",
    "plt.figure(figsize=(5,5))\n",
    "plt.plot(xlist, ya, color = 'firebrick')\n",
    "plt.plot([0,1],[0,1],color = 'black')\n",
    "plt.title('Acetone VLE x-y diagram',fontsize=14)\n",
    "plt.xlabel('$x_A$',fontsize = 14)\n",
    "plt.ylabel('$y_A$',fontsize = 14)\n",
    "plt.xlim([0,1])\n",
    "plt.ylim([0,1])\n",
    "plt.grid(True)"
   ]
  },
  {
   "cell_type": "code",
   "execution_count": 92,
   "id": "4caaabc6-be85-4d47-8a44-4b16bd0c4bcb",
   "metadata": {},
   "outputs": [
    {
     "data": {
      "text/plain": [
       "Text(0.35, 57, 'Two-phase')"
      ]
     },
     "execution_count": 92,
     "metadata": {},
     "output_type": "execute_result"
    },
    {
     "data": {
      "image/png": "[encoded data removed]",
      "text/plain": [
       "<Figure size 500x500 with 1 Axes>"
      ]
     },
     "metadata": {},
     "output_type": "display_data"
    }
   ],
   "source": [
    "#VLE T-x-y diagram. Again, Acetone is more volatile, so the x and y values will be xa and ya.\n",
    "plt.figure(figsize=(5,5))\n",
    "plt.plot(xlist,T,color='black')\n",
    "plt.plot(ya,T,color='black')\n",
    "plt.title('Acetone VLE T-x-y diagram',fontsize=16)\n",
    "plt.xlabel('$x_A$,$y_A$',fontsize = 14)\n",
    "plt.ylabel('$T$ $[\\degree C]$',fontsize=14)\n",
    "plt.xlim([0,1])\n",
    "plt.ylim([45,75])\n",
    "plt.grid(True)\n",
    "\n",
    "plt.fill_between(xlist,10,T,alpha=0.1)\n",
    "plt.fill_between(ya,T,80,alpha=0.1,color='firebrick')\n",
    "plt.text(0.1,50,'Liquid',dict(size=18),color='blue')\n",
    "plt.text(0.6,67,'Vapor',dict(size=18),color='firebrick')\n",
    "plt.text(0.35,57,'Two-phase',dict(size=16),color='black',rotation=-39)\n",
    "\n"
   ]
  },
  {
   "cell_type": "code",
   "execution_count": null,
   "id": "ac9d9279-ffe1-4a15-850a-37d0fb1b8d2a",
   "metadata": {},
   "outputs": [],
   "source": []
  },
  {
   "cell_type": "code",
   "execution_count": null,
   "id": "73a3ef5d-f03e-4814-8e44-ad56e422515c",
   "metadata": {},
   "outputs": [],
   "source": []
  }
 ],
 "metadata": {
  "kernelspec": {
   "display_name": "Python 3 (ipykernel)",
   "language": "python",
   "name": "python3"
  },
  "language_info": {
   "codemirror_mode": {
    "name": "ipython",
    "version": 3
   },
   "file_extension": ".py",
   "mimetype": "text/x-python",
   "name": "python",
   "nbconvert_exporter": "python",
   "pygments_lexer": "ipython3",
   "version": "3.11.9"
  }
 },
 "nbformat": 4,
 "nbformat_minor": 5
}
